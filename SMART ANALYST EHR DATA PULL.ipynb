{
 "cells": [
  {
   "cell_type": "markdown",
   "metadata": {},
   "source": [
    "# Multiple Myloma Patients"
   ]
  },
  {
   "cell_type": "code",
   "execution_count": 1,
   "metadata": {},
   "outputs": [
    {
     "data": {
      "application/javascript": [
       "\n",
       "    require(['notebook/js/codecell'], function(codecell) {\n",
       "      // https://github.com/jupyter/notebook/issues/2453\n",
       "      codecell.CodeCell.options_default.highlight_modes['magic_text/x-sql'] = {'reg':[/^%read_sql/, /.*=\\s*%read_sql/,\n",
       "                                                                                      /^%%read_sql/]};\n",
       "      Jupyter.notebook.events.one('kernel_ready.Kernel', function(){\n",
       "          console.log('BBBBB');\n",
       "          Jupyter.notebook.get_cells().map(function(cell){\n",
       "              if (cell.cell_type == 'code'){ cell.auto_highlight(); } }) ;\n",
       "      });\n",
       "    });\n",
       "    "
      ]
     },
     "metadata": {},
     "output_type": "display_data"
    }
   ],
   "source": [
    "import qgrid\n",
    "import pandas as pd\n",
    "from drg_connect import Snowflake\n",
    " \n",
    "snow = Snowflake(role = 'RWD_ANALYTICS_RW', database='PROJECT_ANALYTICS',schema ='TRAINING')\n",
    "engine = snow.engine\n",
    "#%reload_ext sql_magic  \n",
    "%load_ext sql_magic\n",
    "%config SQL.output_result = True  #Enable output to std out\n",
    "%config SQL.notify_result = False #disable browser notifications\n",
    "%config SQL.conn_name = 'engine'  #Set the sql_magic connection engine"
   ]
  },
  {
   "cell_type": "markdown",
   "metadata": {},
   "source": [
    "# Pulling MM Patients from Combined EHR and Holmusk Table"
   ]
  },
  {
   "cell_type": "markdown",
   "metadata": {},
   "source": [
    "## Joining MM EHR tables and Holmusk EHR tables "
   ]
  },
  {
   "cell_type": "code",
   "execution_count": 3,
   "metadata": {},
   "outputs": [
    {
     "name": "stdout",
     "output_type": "stream",
     "text": [
      "Query started at 03:17:25 PM India Standard Time; Query executed in 0.83 m"
     ]
    },
    {
     "data": {
      "text/html": [
       "<div>\n",
       "<style scoped>\n",
       "    .dataframe tbody tr th:only-of-type {\n",
       "        vertical-align: middle;\n",
       "    }\n",
       "\n",
       "    .dataframe tbody tr th {\n",
       "        vertical-align: top;\n",
       "    }\n",
       "\n",
       "    .dataframe thead th {\n",
       "        text-align: right;\n",
       "    }\n",
       "</style>\n",
       "<table border=\"1\" class=\"dataframe\">\n",
       "  <thead>\n",
       "    <tr style=\"text-align: right;\">\n",
       "      <th></th>\n",
       "      <th>status</th>\n",
       "    </tr>\n",
       "  </thead>\n",
       "  <tbody>\n",
       "    <tr>\n",
       "      <th>0</th>\n",
       "      <td>Table MM_EHR_COM successfully created.</td>\n",
       "    </tr>\n",
       "  </tbody>\n",
       "</table>\n",
       "</div>"
      ],
      "text/plain": [
       "                                   status\n",
       "0  Table MM_EHR_COM successfully created."
      ]
     },
     "execution_count": 3,
     "metadata": {},
     "output_type": "execute_result"
    }
   ],
   "source": [
    "%%read_sql \n",
    "Create or replace Table MM_EHR_COM AS\n",
    "SELECT DISTINCT \n",
    "   -- CLAIM_NUMBER,\n",
    "   'Albatross' as Data_source,\n",
    "    ENCRYPTED_KEY_1,\n",
    "    ENCRYPTED_KEY_2,   \n",
    "     year_of_service\n",
    "  \n",
    "FROM  Myeloma_Albatross_EHR\n",
    "union\n",
    "SELECT DISTINCT \n",
    "   -- CLAIM_NUMBER,\n",
    "   'Pelican' as Data_source,\n",
    "    ENCRYPTED_KEY_1,\n",
    "    ENCRYPTED_KEY_2,   \n",
    "     year_of_service\n",
    "  \n",
    "FROM  Myeloma_Pelican_EHR \n",
    "union\n",
    "SELECT DISTINCT \n",
    "    'Holmusk' as Data_source,\n",
    "   -- CLAIM_NUMBER,\n",
    "    ENCRYPTED_KEY_1,\n",
    "    ENCRYPTED_KEY_2,   \n",
    "    Encounter_date as year_of_service\n",
    "    \n",
    "From  holmusk_EHR_encounter_20180712_final \n",
    "Where ENCRYPTED_KEY_1 IS NOT NULL\n",
    "    AND     TRIM(ENCRYPTED_KEY_1) <> ''\n",
    "    AND     UPPER(ENCRYPTED_KEY_1) NOT LIKE 'XXX -%'\n",
    "    AND     UPPER(ENCRYPTED_KEY_1) <> 'NULL'\n",
    "    AND     ENCRYPTED_KEY_2 IS NOT NULL\n",
    "    AND     TRIM(ENCRYPTED_KEY_2) <> ''\n",
    "    AND     UPPER(ENCRYPTED_KEY_2) NOT LIKE 'XXX -%'\n",
    "    AND     UPPER(ENCRYPTED_KEY_2) <> 'NULL'\n",
    "    AND     YEAR(encounter_date) BETWEEN 2014 AND 2018 \n",
    "  \n",
    "\n"
   ]
  },
  {
   "cell_type": "code",
   "execution_count": 8,
   "metadata": {},
   "outputs": [
    {
     "name": "stdout",
     "output_type": "stream",
     "text": [
      "Query started at 03:31:39 PM India Standard Time; Query executed in 0.14 m"
     ]
    },
    {
     "data": {
      "text/html": [
       "<div>\n",
       "<style scoped>\n",
       "    .dataframe tbody tr th:only-of-type {\n",
       "        vertical-align: middle;\n",
       "    }\n",
       "\n",
       "    .dataframe tbody tr th {\n",
       "        vertical-align: top;\n",
       "    }\n",
       "\n",
       "    .dataframe thead th {\n",
       "        text-align: right;\n",
       "    }\n",
       "</style>\n",
       "<table border=\"1\" class=\"dataframe\">\n",
       "  <thead>\n",
       "    <tr style=\"text-align: right;\">\n",
       "      <th></th>\n",
       "      <th>data_source</th>\n",
       "      <th>COUNT(DISTINCT ENCRYPTED_KEY_1,ENCRYPTED_KEY_2)</th>\n",
       "      <th>COUNT( *)</th>\n",
       "    </tr>\n",
       "  </thead>\n",
       "  <tbody>\n",
       "    <tr>\n",
       "      <th>0</th>\n",
       "      <td>Pelican</td>\n",
       "      <td>12565</td>\n",
       "      <td>15299</td>\n",
       "    </tr>\n",
       "    <tr>\n",
       "      <th>1</th>\n",
       "      <td>Albatross</td>\n",
       "      <td>24897</td>\n",
       "      <td>214128</td>\n",
       "    </tr>\n",
       "    <tr>\n",
       "      <th>2</th>\n",
       "      <td>Holmusk</td>\n",
       "      <td>1593366</td>\n",
       "      <td>73083279</td>\n",
       "    </tr>\n",
       "  </tbody>\n",
       "</table>\n",
       "</div>"
      ],
      "text/plain": [
       "  data_source  COUNT(DISTINCT ENCRYPTED_KEY_1,ENCRYPTED_KEY_2)  COUNT( *)\n",
       "0     Pelican                                            12565      15299\n",
       "1   Albatross                                            24897     214128\n",
       "2     Holmusk                                          1593366   73083279"
      ]
     },
     "execution_count": 8,
     "metadata": {},
     "output_type": "execute_result"
    }
   ],
   "source": [
    "%%read_sql\n",
    "select\n",
    "distinct\n",
    "data_source,\n",
    "count(distinct encrypted_key_1,encrypted_key_2),\n",
    "count( *)\n",
    "\n",
    "from MM_EHR_COM \n",
    "group by 1"
   ]
  },
  {
   "cell_type": "markdown",
   "metadata": {},
   "source": [
    "### Pulling All MM patients records from MM_EHR_COM"
   ]
  },
  {
   "cell_type": "code",
   "execution_count": 19,
   "metadata": {},
   "outputs": [
    {
     "name": "stdout",
     "output_type": "stream",
     "text": [
      "Query started at 05:00:45 PM India Standard Time; Query executed in 0.29 m"
     ]
    },
    {
     "data": {
      "text/html": [
       "<div>\n",
       "<style scoped>\n",
       "    .dataframe tbody tr th:only-of-type {\n",
       "        vertical-align: middle;\n",
       "    }\n",
       "\n",
       "    .dataframe tbody tr th {\n",
       "        vertical-align: top;\n",
       "    }\n",
       "\n",
       "    .dataframe thead th {\n",
       "        text-align: right;\n",
       "    }\n",
       "</style>\n",
       "<table border=\"1\" class=\"dataframe\">\n",
       "  <thead>\n",
       "    <tr style=\"text-align: right;\">\n",
       "      <th></th>\n",
       "      <th>status</th>\n",
       "    </tr>\n",
       "  </thead>\n",
       "  <tbody>\n",
       "    <tr>\n",
       "      <th>0</th>\n",
       "      <td>Table MM_PATIENTS_FROM_EHR successfully created.</td>\n",
       "    </tr>\n",
       "  </tbody>\n",
       "</table>\n",
       "</div>"
      ],
      "text/plain": [
       "                                             status\n",
       "0  Table MM_PATIENTS_FROM_EHR successfully created."
      ]
     },
     "execution_count": 19,
     "metadata": {},
     "output_type": "execute_result"
    }
   ],
   "source": [
    "%%read_sql\n",
    "Create or replace table MM_Patients_from_EHR as\n",
    "Select distinct a.encrypted_key_1,\n",
    "       a.encrypted_key_2,\n",
    "       a.year_of_service,\n",
    "       b.data_source\n",
    "From  Myeloma_patients a\n",
    "inner join MM_EHR_COM b\n",
    "on a.encrypted_key_1||a.encrypted_key_2=b.encrypted_key_1||b.encrypted_key_2\n",
    "\n",
    "where   a.ENCRYPTED_KEY_1 IS NOT NULL\n",
    "    AND     TRIM(a.ENCRYPTED_KEY_1) <> ''\n",
    "    AND     UPPER(a.ENCRYPTED_KEY_1) NOT LIKE 'XXX -%'\n",
    "    AND     UPPER(a.ENCRYPTED_KEY_1) <> 'NULL'\n",
    "    AND     a.ENCRYPTED_KEY_2 IS NOT NULL\n",
    "    AND     TRIM(a.ENCRYPTED_KEY_2) <> ''\n",
    "    AND     UPPER(a.ENCRYPTED_KEY_2) NOT LIKE 'XXX -%'\n",
    "    AND     UPPER(a.ENCRYPTED_KEY_2) <> 'NULL'\n",
    "    AND     YEAR(a.year_of_service) BETWEEN 2014 AND 2018  \n",
    "    \n",
    "      \n"
   ]
  },
  {
   "cell_type": "code",
   "execution_count": 20,
   "metadata": {},
   "outputs": [
    {
     "name": "stdout",
     "output_type": "stream",
     "text": [
      "Query started at 05:01:30 PM India Standard Time; Query executed in 0.07 m"
     ]
    },
    {
     "data": {
      "text/html": [
       "<div>\n",
       "<style scoped>\n",
       "    .dataframe tbody tr th:only-of-type {\n",
       "        vertical-align: middle;\n",
       "    }\n",
       "\n",
       "    .dataframe tbody tr th {\n",
       "        vertical-align: top;\n",
       "    }\n",
       "\n",
       "    .dataframe thead th {\n",
       "        text-align: right;\n",
       "    }\n",
       "</style>\n",
       "<table border=\"1\" class=\"dataframe\">\n",
       "  <thead>\n",
       "    <tr style=\"text-align: right;\">\n",
       "      <th></th>\n",
       "      <th>data_source</th>\n",
       "      <th>COUNT(DISTINCT ENCRYPTED_KEY_1,ENCRYPTED_KEY_2)</th>\n",
       "      <th>COUNT( *)</th>\n",
       "    </tr>\n",
       "  </thead>\n",
       "  <tbody>\n",
       "    <tr>\n",
       "      <th>0</th>\n",
       "      <td>Pelican</td>\n",
       "      <td>12565</td>\n",
       "      <td>320166</td>\n",
       "    </tr>\n",
       "    <tr>\n",
       "      <th>1</th>\n",
       "      <td>Albatross</td>\n",
       "      <td>24897</td>\n",
       "      <td>799887</td>\n",
       "    </tr>\n",
       "  </tbody>\n",
       "</table>\n",
       "</div>"
      ],
      "text/plain": [
       "  data_source  COUNT(DISTINCT ENCRYPTED_KEY_1,ENCRYPTED_KEY_2)  COUNT( *)\n",
       "0     Pelican                                            12565     320166\n",
       "1   Albatross                                            24897     799887"
      ]
     },
     "execution_count": 20,
     "metadata": {},
     "output_type": "execute_result"
    }
   ],
   "source": [
    "%%read_sql\n",
    "select\n",
    "distinct\n",
    "data_source,\n",
    "count(distinct encrypted_key_1,encrypted_key_2),\n",
    "count( *)\n",
    "\n",
    "from MM_PATIENTS_FROM_EHR  \n",
    "group by 1"
   ]
  }
 ],
 "metadata": {
  "kernelspec": {
   "display_name": "Python 3",
   "language": "python",
   "name": "python3"
  },
  "language_info": {
   "codemirror_mode": {
    "name": "ipython",
    "version": 3
   },
   "file_extension": ".py",
   "mimetype": "text/x-python",
   "name": "python",
   "nbconvert_exporter": "python",
   "pygments_lexer": "ipython3",
   "version": "3.6.4"
  },
  "toc": {
   "base_numbering": 1,
   "nav_menu": {},
   "number_sections": true,
   "sideBar": true,
   "skip_h1_title": false,
   "title_cell": "Table of Contents",
   "title_sidebar": "Contents",
   "toc_cell": false,
   "toc_position": {},
   "toc_section_display": true,
   "toc_window_display": false
  }
 },
 "nbformat": 4,
 "nbformat_minor": 2
}
